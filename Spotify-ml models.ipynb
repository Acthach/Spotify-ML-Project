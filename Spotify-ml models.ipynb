{
 "cells": [
  {
   "cell_type": "code",
   "execution_count": 1,
   "metadata": {},
   "outputs": [],
   "source": [
    "import pandas as pd\n",
    "import numpy as np\n",
    "import seaborn as sns\n",
    "import matplotlib.pyplot as plt\n",
    "import matplotlib.ticker as plticker\n",
    "from imblearn.over_sampling import SMOTE\n",
    "%matplotlib inline"
   ]
  },
  {
   "cell_type": "code",
   "execution_count": 2,
   "metadata": {},
   "outputs": [],
   "source": [
    "df = pd.read_csv('/Users/acthach/Desktop/Summer proj/spotify_topsongs.csv')\n",
    "df_fav = pd.read_csv('/Users/acthach/Desktop/Summer proj/favorite_songs.csv')"
   ]
  },
  {
   "cell_type": "code",
   "execution_count": 3,
   "metadata": {},
   "outputs": [
    {
     "data": {
      "text/plain": [
       "favorite\n",
       "0    9347\n",
       "1      50\n",
       "Name: count, dtype: int64"
      ]
     },
     "execution_count": 3,
     "metadata": {},
     "output_type": "execute_result"
    }
   ],
   "source": [
    "df = pd.concat([df, df_fav], axis=0)\n",
    "df.shape\n",
    "df['favorite'].value_counts()"
   ]
  },
  {
   "cell_type": "code",
   "execution_count": 4,
   "metadata": {},
   "outputs": [
    {
     "data": {
      "text/html": [
       "<div>\n",
       "<style scoped>\n",
       "    .dataframe tbody tr th:only-of-type {\n",
       "        vertical-align: middle;\n",
       "    }\n",
       "\n",
       "    .dataframe tbody tr th {\n",
       "        vertical-align: top;\n",
       "    }\n",
       "\n",
       "    .dataframe thead th {\n",
       "        text-align: right;\n",
       "    }\n",
       "</style>\n",
       "<table border=\"1\" class=\"dataframe\">\n",
       "  <thead>\n",
       "    <tr style=\"text-align: right;\">\n",
       "      <th></th>\n",
       "      <th>track_id</th>\n",
       "      <th>length</th>\n",
       "      <th>popularity</th>\n",
       "      <th>danceability</th>\n",
       "      <th>acousticness</th>\n",
       "      <th>energy</th>\n",
       "      <th>instrumentalness</th>\n",
       "      <th>liveness</th>\n",
       "      <th>loudness</th>\n",
       "      <th>speechiness</th>\n",
       "      <th>tempo</th>\n",
       "      <th>time_signature</th>\n",
       "      <th>favorite</th>\n",
       "    </tr>\n",
       "  </thead>\n",
       "  <tbody>\n",
       "    <tr>\n",
       "      <th>0</th>\n",
       "      <td>4xdBrk0nFZaP54vvZj0yx7</td>\n",
       "      <td>184841</td>\n",
       "      <td>90</td>\n",
       "      <td>0.742</td>\n",
       "      <td>0.0187</td>\n",
       "      <td>0.757</td>\n",
       "      <td>0.0000</td>\n",
       "      <td>0.3050</td>\n",
       "      <td>-4.981</td>\n",
       "      <td>0.0421</td>\n",
       "      <td>139.982</td>\n",
       "      <td>4</td>\n",
       "      <td>0</td>\n",
       "    </tr>\n",
       "    <tr>\n",
       "      <th>1</th>\n",
       "      <td>6dOtVTDdiauQNBQEDOtlAB</td>\n",
       "      <td>210373</td>\n",
       "      <td>99</td>\n",
       "      <td>0.747</td>\n",
       "      <td>0.2000</td>\n",
       "      <td>0.507</td>\n",
       "      <td>0.0608</td>\n",
       "      <td>0.1170</td>\n",
       "      <td>-10.171</td>\n",
       "      <td>0.0358</td>\n",
       "      <td>104.978</td>\n",
       "      <td>4</td>\n",
       "      <td>0</td>\n",
       "    </tr>\n",
       "    <tr>\n",
       "      <th>2</th>\n",
       "      <td>5N3hjp1WNayUPZrA8kJmJP</td>\n",
       "      <td>186365</td>\n",
       "      <td>98</td>\n",
       "      <td>0.669</td>\n",
       "      <td>0.2740</td>\n",
       "      <td>0.586</td>\n",
       "      <td>0.0000</td>\n",
       "      <td>0.1040</td>\n",
       "      <td>-6.073</td>\n",
       "      <td>0.0540</td>\n",
       "      <td>107.071</td>\n",
       "      <td>4</td>\n",
       "      <td>0</td>\n",
       "    </tr>\n",
       "    <tr>\n",
       "      <th>3</th>\n",
       "      <td>19RybK6XDbAVpcdxSbZL1o</td>\n",
       "      <td>151739</td>\n",
       "      <td>86</td>\n",
       "      <td>0.804</td>\n",
       "      <td>0.1250</td>\n",
       "      <td>0.957</td>\n",
       "      <td>0.0174</td>\n",
       "      <td>0.1140</td>\n",
       "      <td>-5.452</td>\n",
       "      <td>0.0340</td>\n",
       "      <td>126.035</td>\n",
       "      <td>4</td>\n",
       "      <td>0</td>\n",
       "    </tr>\n",
       "    <tr>\n",
       "      <th>4</th>\n",
       "      <td>51eSHglvG1RJXtL3qI5trr</td>\n",
       "      <td>161831</td>\n",
       "      <td>89</td>\n",
       "      <td>0.432</td>\n",
       "      <td>0.1740</td>\n",
       "      <td>0.583</td>\n",
       "      <td>0.0000</td>\n",
       "      <td>0.0933</td>\n",
       "      <td>-4.682</td>\n",
       "      <td>0.0687</td>\n",
       "      <td>181.489</td>\n",
       "      <td>4</td>\n",
       "      <td>0</td>\n",
       "    </tr>\n",
       "  </tbody>\n",
       "</table>\n",
       "</div>"
      ],
      "text/plain": [
       "                 track_id  length  popularity  danceability  acousticness  \\\n",
       "0  4xdBrk0nFZaP54vvZj0yx7  184841          90         0.742        0.0187   \n",
       "1  6dOtVTDdiauQNBQEDOtlAB  210373          99         0.747        0.2000   \n",
       "2  5N3hjp1WNayUPZrA8kJmJP  186365          98         0.669        0.2740   \n",
       "3  19RybK6XDbAVpcdxSbZL1o  151739          86         0.804        0.1250   \n",
       "4  51eSHglvG1RJXtL3qI5trr  161831          89         0.432        0.1740   \n",
       "\n",
       "   energy  instrumentalness  liveness  loudness  speechiness    tempo  \\\n",
       "0   0.757            0.0000    0.3050    -4.981       0.0421  139.982   \n",
       "1   0.507            0.0608    0.1170   -10.171       0.0358  104.978   \n",
       "2   0.586            0.0000    0.1040    -6.073       0.0540  107.071   \n",
       "3   0.957            0.0174    0.1140    -5.452       0.0340  126.035   \n",
       "4   0.583            0.0000    0.0933    -4.682       0.0687  181.489   \n",
       "\n",
       "   time_signature  favorite  \n",
       "0               4         0  \n",
       "1               4         0  \n",
       "2               4         0  \n",
       "3               4         0  \n",
       "4               4         0  "
      ]
     },
     "execution_count": 4,
     "metadata": {},
     "output_type": "execute_result"
    }
   ],
   "source": [
    "df.head()"
   ]
  },
  {
   "cell_type": "code",
   "execution_count": 5,
   "metadata": {},
   "outputs": [],
   "source": [
    "# Importing required libraries\n",
    "import sklearn\n",
    "from sklearn.pipeline import Pipeline\n",
    "from sklearn.model_selection import cross_val_score\n",
    "from sklearn.model_selection import train_test_split\n",
    "from sklearn.model_selection import GridSearchCV\n",
    "from sklearn.metrics import confusion_matrix, ConfusionMatrixDisplay\n",
    "from sklearn import metrics \n",
    "from sklearn.metrics import f1_score\n",
    "from sklearn.utils import shuffle\n",
    "# Models\n",
    "from sklearn.ensemble import RandomForestClassifier\n",
    "from sklearn.linear_model import LogisticRegression \n",
    "from sklearn.tree import DecisionTreeClassifier"
   ]
  },
  {
   "cell_type": "code",
   "execution_count": 6,
   "metadata": {},
   "outputs": [
    {
     "data": {
      "text/html": [
       "<div>\n",
       "<style scoped>\n",
       "    .dataframe tbody tr th:only-of-type {\n",
       "        vertical-align: middle;\n",
       "    }\n",
       "\n",
       "    .dataframe tbody tr th {\n",
       "        vertical-align: top;\n",
       "    }\n",
       "\n",
       "    .dataframe thead th {\n",
       "        text-align: right;\n",
       "    }\n",
       "</style>\n",
       "<table border=\"1\" class=\"dataframe\">\n",
       "  <thead>\n",
       "    <tr style=\"text-align: right;\">\n",
       "      <th></th>\n",
       "      <th>track_id</th>\n",
       "      <th>length</th>\n",
       "      <th>popularity</th>\n",
       "      <th>danceability</th>\n",
       "      <th>acousticness</th>\n",
       "      <th>energy</th>\n",
       "      <th>instrumentalness</th>\n",
       "      <th>liveness</th>\n",
       "      <th>loudness</th>\n",
       "      <th>speechiness</th>\n",
       "      <th>tempo</th>\n",
       "      <th>time_signature</th>\n",
       "      <th>favorite</th>\n",
       "    </tr>\n",
       "  </thead>\n",
       "  <tbody>\n",
       "    <tr>\n",
       "      <th>0</th>\n",
       "      <td>6Fvzozbq17iFwej6D0vuOE</td>\n",
       "      <td>212307</td>\n",
       "      <td>34</td>\n",
       "      <td>0.779</td>\n",
       "      <td>0.00227</td>\n",
       "      <td>0.846</td>\n",
       "      <td>0.625000</td>\n",
       "      <td>0.152</td>\n",
       "      <td>-9.165</td>\n",
       "      <td>0.0543</td>\n",
       "      <td>130.002</td>\n",
       "      <td>4</td>\n",
       "      <td>0</td>\n",
       "    </tr>\n",
       "    <tr>\n",
       "      <th>1</th>\n",
       "      <td>1SsadgOE1rru44D5JF9t4E</td>\n",
       "      <td>259647</td>\n",
       "      <td>33</td>\n",
       "      <td>0.658</td>\n",
       "      <td>0.23400</td>\n",
       "      <td>0.538</td>\n",
       "      <td>0.000882</td>\n",
       "      <td>0.098</td>\n",
       "      <td>-8.495</td>\n",
       "      <td>0.0252</td>\n",
       "      <td>110.232</td>\n",
       "      <td>4</td>\n",
       "      <td>0</td>\n",
       "    </tr>\n",
       "    <tr>\n",
       "      <th>2</th>\n",
       "      <td>4c11HmomjkYU2wf9maxf17</td>\n",
       "      <td>260431</td>\n",
       "      <td>37</td>\n",
       "      <td>0.264</td>\n",
       "      <td>0.09010</td>\n",
       "      <td>0.795</td>\n",
       "      <td>0.000217</td>\n",
       "      <td>0.243</td>\n",
       "      <td>-4.413</td>\n",
       "      <td>0.0705</td>\n",
       "      <td>153.044</td>\n",
       "      <td>4</td>\n",
       "      <td>0</td>\n",
       "    </tr>\n",
       "    <tr>\n",
       "      <th>3</th>\n",
       "      <td>7EF7xI1dSQj1dN1dP3YPPW</td>\n",
       "      <td>204760</td>\n",
       "      <td>47</td>\n",
       "      <td>0.577</td>\n",
       "      <td>0.00239</td>\n",
       "      <td>0.903</td>\n",
       "      <td>0.747000</td>\n",
       "      <td>0.102</td>\n",
       "      <td>-5.659</td>\n",
       "      <td>0.0734</td>\n",
       "      <td>148.068</td>\n",
       "      <td>4</td>\n",
       "      <td>0</td>\n",
       "    </tr>\n",
       "    <tr>\n",
       "      <th>4</th>\n",
       "      <td>5VNlUlsA6yZLzDzEctTkst</td>\n",
       "      <td>264200</td>\n",
       "      <td>38</td>\n",
       "      <td>0.406</td>\n",
       "      <td>0.86400</td>\n",
       "      <td>0.248</td>\n",
       "      <td>0.560000</td>\n",
       "      <td>0.157</td>\n",
       "      <td>-15.132</td>\n",
       "      <td>0.0389</td>\n",
       "      <td>105.382</td>\n",
       "      <td>4</td>\n",
       "      <td>0</td>\n",
       "    </tr>\n",
       "  </tbody>\n",
       "</table>\n",
       "</div>"
      ],
      "text/plain": [
       "                 track_id  length  popularity  danceability  acousticness  \\\n",
       "0  6Fvzozbq17iFwej6D0vuOE  212307          34         0.779       0.00227   \n",
       "1  1SsadgOE1rru44D5JF9t4E  259647          33         0.658       0.23400   \n",
       "2  4c11HmomjkYU2wf9maxf17  260431          37         0.264       0.09010   \n",
       "3  7EF7xI1dSQj1dN1dP3YPPW  204760          47         0.577       0.00239   \n",
       "4  5VNlUlsA6yZLzDzEctTkst  264200          38         0.406       0.86400   \n",
       "\n",
       "   energy  instrumentalness  liveness  loudness  speechiness    tempo  \\\n",
       "0   0.846          0.625000     0.152    -9.165       0.0543  130.002   \n",
       "1   0.538          0.000882     0.098    -8.495       0.0252  110.232   \n",
       "2   0.795          0.000217     0.243    -4.413       0.0705  153.044   \n",
       "3   0.903          0.747000     0.102    -5.659       0.0734  148.068   \n",
       "4   0.248          0.560000     0.157   -15.132       0.0389  105.382   \n",
       "\n",
       "   time_signature  favorite  \n",
       "0               4         0  \n",
       "1               4         0  \n",
       "2               4         0  \n",
       "3               4         0  \n",
       "4               4         0  "
      ]
     },
     "execution_count": 6,
     "metadata": {},
     "output_type": "execute_result"
    }
   ],
   "source": [
    "# Assuming id3_df is your DataFrame\n",
    "shuffled_df = df.sample(frac=1).reset_index(drop=True)\n",
    "shuffled_df.head()\n",
    "\n"
   ]
  },
  {
   "cell_type": "code",
   "execution_count": 11,
   "metadata": {},
   "outputs": [],
   "source": [
    "# Assuming shuffled_df2 is your DataFrame\n",
    "train_df, test_df = train_test_split(shuffled_df, test_size=0.2, random_state=42)\n",
    "\n",
    "# `test_size=0.2` means 20% of the data will be used for the test set, and 80% for the train set.\n",
    "# `random_state=42` ensures reproducibility of the split.\n"
   ]
  },
  {
   "cell_type": "code",
   "execution_count": 12,
   "metadata": {},
   "outputs": [
    {
     "name": "stdout",
     "output_type": "stream",
     "text": [
      "Train set size: 7517\n",
      "Test set size: 1880\n"
     ]
    }
   ],
   "source": [
    "print(f\"Train set size: {len(train_df)}\")\n",
    "print(f\"Test set size: {len(test_df)}\")\n"
   ]
  },
  {
   "cell_type": "code",
   "execution_count": 13,
   "metadata": {},
   "outputs": [
    {
     "data": {
      "text/html": [
       "<div>\n",
       "<style scoped>\n",
       "    .dataframe tbody tr th:only-of-type {\n",
       "        vertical-align: middle;\n",
       "    }\n",
       "\n",
       "    .dataframe tbody tr th {\n",
       "        vertical-align: top;\n",
       "    }\n",
       "\n",
       "    .dataframe thead th {\n",
       "        text-align: right;\n",
       "    }\n",
       "</style>\n",
       "<table border=\"1\" class=\"dataframe\">\n",
       "  <thead>\n",
       "    <tr style=\"text-align: right;\">\n",
       "      <th></th>\n",
       "      <th>track_id</th>\n",
       "      <th>length</th>\n",
       "      <th>popularity</th>\n",
       "      <th>danceability</th>\n",
       "      <th>acousticness</th>\n",
       "      <th>energy</th>\n",
       "      <th>instrumentalness</th>\n",
       "      <th>liveness</th>\n",
       "      <th>loudness</th>\n",
       "      <th>speechiness</th>\n",
       "      <th>tempo</th>\n",
       "      <th>time_signature</th>\n",
       "      <th>favorite</th>\n",
       "    </tr>\n",
       "  </thead>\n",
       "  <tbody>\n",
       "    <tr>\n",
       "      <th>8174</th>\n",
       "      <td>6dOtVTDdiauQNBQEDOtlAB</td>\n",
       "      <td>210373</td>\n",
       "      <td>99</td>\n",
       "      <td>0.747</td>\n",
       "      <td>0.20000</td>\n",
       "      <td>0.5070</td>\n",
       "      <td>0.0608</td>\n",
       "      <td>0.117</td>\n",
       "      <td>-10.171</td>\n",
       "      <td>0.0358</td>\n",
       "      <td>104.978</td>\n",
       "      <td>4</td>\n",
       "      <td>0</td>\n",
       "    </tr>\n",
       "    <tr>\n",
       "      <th>449</th>\n",
       "      <td>48bo7uexDvAThcRDvEB2W7</td>\n",
       "      <td>255400</td>\n",
       "      <td>57</td>\n",
       "      <td>0.546</td>\n",
       "      <td>0.01330</td>\n",
       "      <td>0.8780</td>\n",
       "      <td>0.0000</td>\n",
       "      <td>0.135</td>\n",
       "      <td>-5.137</td>\n",
       "      <td>0.0525</td>\n",
       "      <td>119.945</td>\n",
       "      <td>4</td>\n",
       "      <td>0</td>\n",
       "    </tr>\n",
       "    <tr>\n",
       "      <th>5398</th>\n",
       "      <td>7iNIg7XDEaYECfWD5dJ9Va</td>\n",
       "      <td>189466</td>\n",
       "      <td>67</td>\n",
       "      <td>0.743</td>\n",
       "      <td>0.00389</td>\n",
       "      <td>0.7350</td>\n",
       "      <td>0.0000</td>\n",
       "      <td>0.304</td>\n",
       "      <td>-5.337</td>\n",
       "      <td>0.0382</td>\n",
       "      <td>104.979</td>\n",
       "      <td>4</td>\n",
       "      <td>0</td>\n",
       "    </tr>\n",
       "    <tr>\n",
       "      <th>3774</th>\n",
       "      <td>7FwBtcecmlpc1sLySPXeGE</td>\n",
       "      <td>241306</td>\n",
       "      <td>84</td>\n",
       "      <td>0.527</td>\n",
       "      <td>0.01150</td>\n",
       "      <td>0.9420</td>\n",
       "      <td>0.0000</td>\n",
       "      <td>0.188</td>\n",
       "      <td>-5.640</td>\n",
       "      <td>0.0366</td>\n",
       "      <td>148.723</td>\n",
       "      <td>4</td>\n",
       "      <td>0</td>\n",
       "    </tr>\n",
       "    <tr>\n",
       "      <th>379</th>\n",
       "      <td>0EXWcVFtynKrWiQqpRDkTh</td>\n",
       "      <td>630893</td>\n",
       "      <td>30</td>\n",
       "      <td>0.145</td>\n",
       "      <td>0.95100</td>\n",
       "      <td>0.0766</td>\n",
       "      <td>0.8820</td>\n",
       "      <td>0.108</td>\n",
       "      <td>-22.100</td>\n",
       "      <td>0.0368</td>\n",
       "      <td>67.461</td>\n",
       "      <td>4</td>\n",
       "      <td>0</td>\n",
       "    </tr>\n",
       "  </tbody>\n",
       "</table>\n",
       "</div>"
      ],
      "text/plain": [
       "                    track_id  length  popularity  danceability  acousticness  \\\n",
       "8174  6dOtVTDdiauQNBQEDOtlAB  210373          99         0.747       0.20000   \n",
       "449   48bo7uexDvAThcRDvEB2W7  255400          57         0.546       0.01330   \n",
       "5398  7iNIg7XDEaYECfWD5dJ9Va  189466          67         0.743       0.00389   \n",
       "3774  7FwBtcecmlpc1sLySPXeGE  241306          84         0.527       0.01150   \n",
       "379   0EXWcVFtynKrWiQqpRDkTh  630893          30         0.145       0.95100   \n",
       "\n",
       "      energy  instrumentalness  liveness  loudness  speechiness    tempo  \\\n",
       "8174  0.5070            0.0608     0.117   -10.171       0.0358  104.978   \n",
       "449   0.8780            0.0000     0.135    -5.137       0.0525  119.945   \n",
       "5398  0.7350            0.0000     0.304    -5.337       0.0382  104.979   \n",
       "3774  0.9420            0.0000     0.188    -5.640       0.0366  148.723   \n",
       "379   0.0766            0.8820     0.108   -22.100       0.0368   67.461   \n",
       "\n",
       "      time_signature  favorite  \n",
       "8174               4         0  \n",
       "449                4         0  \n",
       "5398               4         0  \n",
       "3774               4         0  \n",
       "379                4         0  "
      ]
     },
     "execution_count": 13,
     "metadata": {},
     "output_type": "execute_result"
    }
   ],
   "source": [
    "train_df.head()"
   ]
  },
  {
   "cell_type": "code",
   "execution_count": 14,
   "metadata": {},
   "outputs": [
    {
     "data": {
      "text/html": [
       "<div>\n",
       "<style scoped>\n",
       "    .dataframe tbody tr th:only-of-type {\n",
       "        vertical-align: middle;\n",
       "    }\n",
       "\n",
       "    .dataframe tbody tr th {\n",
       "        vertical-align: top;\n",
       "    }\n",
       "\n",
       "    .dataframe thead th {\n",
       "        text-align: right;\n",
       "    }\n",
       "</style>\n",
       "<table border=\"1\" class=\"dataframe\">\n",
       "  <thead>\n",
       "    <tr style=\"text-align: right;\">\n",
       "      <th></th>\n",
       "      <th>length</th>\n",
       "      <th>popularity</th>\n",
       "      <th>danceability</th>\n",
       "      <th>acousticness</th>\n",
       "      <th>energy</th>\n",
       "      <th>instrumentalness</th>\n",
       "      <th>liveness</th>\n",
       "      <th>loudness</th>\n",
       "      <th>speechiness</th>\n",
       "      <th>tempo</th>\n",
       "      <th>time_signature</th>\n",
       "    </tr>\n",
       "  </thead>\n",
       "  <tbody>\n",
       "    <tr>\n",
       "      <th>8174</th>\n",
       "      <td>210373</td>\n",
       "      <td>99</td>\n",
       "      <td>0.747</td>\n",
       "      <td>0.20000</td>\n",
       "      <td>0.5070</td>\n",
       "      <td>0.0608</td>\n",
       "      <td>0.117</td>\n",
       "      <td>-10.171</td>\n",
       "      <td>0.0358</td>\n",
       "      <td>104.978</td>\n",
       "      <td>4</td>\n",
       "    </tr>\n",
       "    <tr>\n",
       "      <th>449</th>\n",
       "      <td>255400</td>\n",
       "      <td>57</td>\n",
       "      <td>0.546</td>\n",
       "      <td>0.01330</td>\n",
       "      <td>0.8780</td>\n",
       "      <td>0.0000</td>\n",
       "      <td>0.135</td>\n",
       "      <td>-5.137</td>\n",
       "      <td>0.0525</td>\n",
       "      <td>119.945</td>\n",
       "      <td>4</td>\n",
       "    </tr>\n",
       "    <tr>\n",
       "      <th>5398</th>\n",
       "      <td>189466</td>\n",
       "      <td>67</td>\n",
       "      <td>0.743</td>\n",
       "      <td>0.00389</td>\n",
       "      <td>0.7350</td>\n",
       "      <td>0.0000</td>\n",
       "      <td>0.304</td>\n",
       "      <td>-5.337</td>\n",
       "      <td>0.0382</td>\n",
       "      <td>104.979</td>\n",
       "      <td>4</td>\n",
       "    </tr>\n",
       "    <tr>\n",
       "      <th>3774</th>\n",
       "      <td>241306</td>\n",
       "      <td>84</td>\n",
       "      <td>0.527</td>\n",
       "      <td>0.01150</td>\n",
       "      <td>0.9420</td>\n",
       "      <td>0.0000</td>\n",
       "      <td>0.188</td>\n",
       "      <td>-5.640</td>\n",
       "      <td>0.0366</td>\n",
       "      <td>148.723</td>\n",
       "      <td>4</td>\n",
       "    </tr>\n",
       "    <tr>\n",
       "      <th>379</th>\n",
       "      <td>630893</td>\n",
       "      <td>30</td>\n",
       "      <td>0.145</td>\n",
       "      <td>0.95100</td>\n",
       "      <td>0.0766</td>\n",
       "      <td>0.8820</td>\n",
       "      <td>0.108</td>\n",
       "      <td>-22.100</td>\n",
       "      <td>0.0368</td>\n",
       "      <td>67.461</td>\n",
       "      <td>4</td>\n",
       "    </tr>\n",
       "  </tbody>\n",
       "</table>\n",
       "</div>"
      ],
      "text/plain": [
       "      length  popularity  danceability  acousticness  energy  \\\n",
       "8174  210373          99         0.747       0.20000  0.5070   \n",
       "449   255400          57         0.546       0.01330  0.8780   \n",
       "5398  189466          67         0.743       0.00389  0.7350   \n",
       "3774  241306          84         0.527       0.01150  0.9420   \n",
       "379   630893          30         0.145       0.95100  0.0766   \n",
       "\n",
       "      instrumentalness  liveness  loudness  speechiness    tempo  \\\n",
       "8174            0.0608     0.117   -10.171       0.0358  104.978   \n",
       "449             0.0000     0.135    -5.137       0.0525  119.945   \n",
       "5398            0.0000     0.304    -5.337       0.0382  104.979   \n",
       "3774            0.0000     0.188    -5.640       0.0366  148.723   \n",
       "379             0.8820     0.108   -22.100       0.0368   67.461   \n",
       "\n",
       "      time_signature  \n",
       "8174               4  \n",
       "449                4  \n",
       "5398               4  \n",
       "3774               4  \n",
       "379                4  "
      ]
     },
     "execution_count": 14,
     "metadata": {},
     "output_type": "execute_result"
    }
   ],
   "source": [
    "\n",
    "X = train_df.drop(columns=['favorite', 'track_id'])\n",
    "y = train_df.favorite\n",
    "\n",
    "X.head()\n"
   ]
  },
  {
   "cell_type": "code",
   "execution_count": 15,
   "metadata": {},
   "outputs": [
    {
     "data": {
      "text/plain": [
       "favorite\n",
       "0    7476\n",
       "1      41\n",
       "Name: count, dtype: int64"
      ]
     },
     "execution_count": 15,
     "metadata": {},
     "output_type": "execute_result"
    }
   ],
   "source": [
    "y.value_counts()"
   ]
  },
  {
   "cell_type": "code",
   "execution_count": 16,
   "metadata": {},
   "outputs": [],
   "source": [
    "oversample = SMOTE()\n",
    "X_train, y_train = oversample.fit_resample(X, y) "
   ]
  },
  {
   "cell_type": "code",
   "execution_count": 17,
   "metadata": {},
   "outputs": [
    {
     "data": {
      "text/html": [
       "<div>\n",
       "<style scoped>\n",
       "    .dataframe tbody tr th:only-of-type {\n",
       "        vertical-align: middle;\n",
       "    }\n",
       "\n",
       "    .dataframe tbody tr th {\n",
       "        vertical-align: top;\n",
       "    }\n",
       "\n",
       "    .dataframe thead th {\n",
       "        text-align: right;\n",
       "    }\n",
       "</style>\n",
       "<table border=\"1\" class=\"dataframe\">\n",
       "  <thead>\n",
       "    <tr style=\"text-align: right;\">\n",
       "      <th></th>\n",
       "      <th>length</th>\n",
       "      <th>popularity</th>\n",
       "      <th>danceability</th>\n",
       "      <th>acousticness</th>\n",
       "      <th>energy</th>\n",
       "      <th>instrumentalness</th>\n",
       "      <th>liveness</th>\n",
       "      <th>loudness</th>\n",
       "      <th>speechiness</th>\n",
       "      <th>tempo</th>\n",
       "      <th>time_signature</th>\n",
       "    </tr>\n",
       "  </thead>\n",
       "  <tbody>\n",
       "    <tr>\n",
       "      <th>0</th>\n",
       "      <td>210373</td>\n",
       "      <td>99</td>\n",
       "      <td>0.747</td>\n",
       "      <td>0.20000</td>\n",
       "      <td>0.5070</td>\n",
       "      <td>0.0608</td>\n",
       "      <td>0.117</td>\n",
       "      <td>-10.171</td>\n",
       "      <td>0.0358</td>\n",
       "      <td>104.978</td>\n",
       "      <td>4</td>\n",
       "    </tr>\n",
       "    <tr>\n",
       "      <th>1</th>\n",
       "      <td>255400</td>\n",
       "      <td>57</td>\n",
       "      <td>0.546</td>\n",
       "      <td>0.01330</td>\n",
       "      <td>0.8780</td>\n",
       "      <td>0.0000</td>\n",
       "      <td>0.135</td>\n",
       "      <td>-5.137</td>\n",
       "      <td>0.0525</td>\n",
       "      <td>119.945</td>\n",
       "      <td>4</td>\n",
       "    </tr>\n",
       "    <tr>\n",
       "      <th>2</th>\n",
       "      <td>189466</td>\n",
       "      <td>67</td>\n",
       "      <td>0.743</td>\n",
       "      <td>0.00389</td>\n",
       "      <td>0.7350</td>\n",
       "      <td>0.0000</td>\n",
       "      <td>0.304</td>\n",
       "      <td>-5.337</td>\n",
       "      <td>0.0382</td>\n",
       "      <td>104.979</td>\n",
       "      <td>4</td>\n",
       "    </tr>\n",
       "    <tr>\n",
       "      <th>3</th>\n",
       "      <td>241306</td>\n",
       "      <td>84</td>\n",
       "      <td>0.527</td>\n",
       "      <td>0.01150</td>\n",
       "      <td>0.9420</td>\n",
       "      <td>0.0000</td>\n",
       "      <td>0.188</td>\n",
       "      <td>-5.640</td>\n",
       "      <td>0.0366</td>\n",
       "      <td>148.723</td>\n",
       "      <td>4</td>\n",
       "    </tr>\n",
       "    <tr>\n",
       "      <th>4</th>\n",
       "      <td>630893</td>\n",
       "      <td>30</td>\n",
       "      <td>0.145</td>\n",
       "      <td>0.95100</td>\n",
       "      <td>0.0766</td>\n",
       "      <td>0.8820</td>\n",
       "      <td>0.108</td>\n",
       "      <td>-22.100</td>\n",
       "      <td>0.0368</td>\n",
       "      <td>67.461</td>\n",
       "      <td>4</td>\n",
       "    </tr>\n",
       "  </tbody>\n",
       "</table>\n",
       "</div>"
      ],
      "text/plain": [
       "   length  popularity  danceability  acousticness  energy  instrumentalness  \\\n",
       "0  210373          99         0.747       0.20000  0.5070            0.0608   \n",
       "1  255400          57         0.546       0.01330  0.8780            0.0000   \n",
       "2  189466          67         0.743       0.00389  0.7350            0.0000   \n",
       "3  241306          84         0.527       0.01150  0.9420            0.0000   \n",
       "4  630893          30         0.145       0.95100  0.0766            0.8820   \n",
       "\n",
       "   liveness  loudness  speechiness    tempo  time_signature  \n",
       "0     0.117   -10.171       0.0358  104.978               4  \n",
       "1     0.135    -5.137       0.0525  119.945               4  \n",
       "2     0.304    -5.337       0.0382  104.979               4  \n",
       "3     0.188    -5.640       0.0366  148.723               4  \n",
       "4     0.108   -22.100       0.0368   67.461               4  "
      ]
     },
     "execution_count": 17,
     "metadata": {},
     "output_type": "execute_result"
    }
   ],
   "source": [
    "X_train.head()\n"
   ]
  },
  {
   "cell_type": "code",
   "execution_count": 18,
   "metadata": {},
   "outputs": [
    {
     "data": {
      "text/plain": [
       "favorite\n",
       "0    7476\n",
       "1    7476\n",
       "Name: count, dtype: int64"
      ]
     },
     "execution_count": 18,
     "metadata": {},
     "output_type": "execute_result"
    }
   ],
   "source": [
    "y_train.value_counts()"
   ]
  },
  {
   "cell_type": "markdown",
   "metadata": {},
   "source": [
    "Now that the classes in the train set are balanced, the model will be less biased towards a song being a non-favorite and be more accurate on the test data and real life application."
   ]
  },
  {
   "cell_type": "code",
   "execution_count": 19,
   "metadata": {},
   "outputs": [],
   "source": [
    "X_test = test_df.drop(columns=['favorite', 'track_id'])\n",
    "y_test = test_df['favorite']"
   ]
  },
  {
   "cell_type": "code",
   "execution_count": 20,
   "metadata": {},
   "outputs": [
    {
     "data": {
      "text/html": [
       "<div>\n",
       "<style scoped>\n",
       "    .dataframe tbody tr th:only-of-type {\n",
       "        vertical-align: middle;\n",
       "    }\n",
       "\n",
       "    .dataframe tbody tr th {\n",
       "        vertical-align: top;\n",
       "    }\n",
       "\n",
       "    .dataframe thead th {\n",
       "        text-align: right;\n",
       "    }\n",
       "</style>\n",
       "<table border=\"1\" class=\"dataframe\">\n",
       "  <thead>\n",
       "    <tr style=\"text-align: right;\">\n",
       "      <th></th>\n",
       "      <th>track_id</th>\n",
       "      <th>length</th>\n",
       "      <th>popularity</th>\n",
       "      <th>danceability</th>\n",
       "      <th>acousticness</th>\n",
       "      <th>energy</th>\n",
       "      <th>instrumentalness</th>\n",
       "      <th>liveness</th>\n",
       "      <th>loudness</th>\n",
       "      <th>speechiness</th>\n",
       "      <th>tempo</th>\n",
       "      <th>time_signature</th>\n",
       "      <th>favorite</th>\n",
       "    </tr>\n",
       "  </thead>\n",
       "  <tbody>\n",
       "    <tr>\n",
       "      <th>1618</th>\n",
       "      <td>5P9guvAyGzysMhzMyADHOQ</td>\n",
       "      <td>194626</td>\n",
       "      <td>31</td>\n",
       "      <td>0.338</td>\n",
       "      <td>0.93800</td>\n",
       "      <td>0.2550</td>\n",
       "      <td>0.000493</td>\n",
       "      <td>0.1460</td>\n",
       "      <td>-10.930</td>\n",
       "      <td>0.0364</td>\n",
       "      <td>129.538</td>\n",
       "      <td>4</td>\n",
       "      <td>0</td>\n",
       "    </tr>\n",
       "    <tr>\n",
       "      <th>7937</th>\n",
       "      <td>1UUwFKaZ1Z8QPp5sstWltL</td>\n",
       "      <td>167189</td>\n",
       "      <td>62</td>\n",
       "      <td>0.434</td>\n",
       "      <td>0.99200</td>\n",
       "      <td>0.0120</td>\n",
       "      <td>0.896000</td>\n",
       "      <td>0.1060</td>\n",
       "      <td>-35.826</td>\n",
       "      <td>0.0321</td>\n",
       "      <td>107.437</td>\n",
       "      <td>4</td>\n",
       "      <td>0</td>\n",
       "    </tr>\n",
       "    <tr>\n",
       "      <th>8648</th>\n",
       "      <td>3XscpxBMDGN1Jhm9ZL3Wsg</td>\n",
       "      <td>459213</td>\n",
       "      <td>31</td>\n",
       "      <td>0.131</td>\n",
       "      <td>0.98800</td>\n",
       "      <td>0.0522</td>\n",
       "      <td>0.905000</td>\n",
       "      <td>0.0844</td>\n",
       "      <td>-19.620</td>\n",
       "      <td>0.0441</td>\n",
       "      <td>67.730</td>\n",
       "      <td>4</td>\n",
       "      <td>0</td>\n",
       "    </tr>\n",
       "    <tr>\n",
       "      <th>4058</th>\n",
       "      <td>2RsAajgo0g7bMCHxwH3Sk0</td>\n",
       "      <td>218920</td>\n",
       "      <td>79</td>\n",
       "      <td>0.500</td>\n",
       "      <td>0.00016</td>\n",
       "      <td>0.8240</td>\n",
       "      <td>0.001610</td>\n",
       "      <td>0.0916</td>\n",
       "      <td>-5.846</td>\n",
       "      <td>0.0388</td>\n",
       "      <td>120.125</td>\n",
       "      <td>4</td>\n",
       "      <td>0</td>\n",
       "    </tr>\n",
       "    <tr>\n",
       "      <th>3781</th>\n",
       "      <td>6GqqGv8frU7kqzXkm2rewI</td>\n",
       "      <td>190718</td>\n",
       "      <td>68</td>\n",
       "      <td>0.664</td>\n",
       "      <td>0.00839</td>\n",
       "      <td>0.8280</td>\n",
       "      <td>0.000000</td>\n",
       "      <td>0.2940</td>\n",
       "      <td>-6.053</td>\n",
       "      <td>0.0404</td>\n",
       "      <td>103.985</td>\n",
       "      <td>4</td>\n",
       "      <td>0</td>\n",
       "    </tr>\n",
       "  </tbody>\n",
       "</table>\n",
       "</div>"
      ],
      "text/plain": [
       "                    track_id  length  popularity  danceability  acousticness  \\\n",
       "1618  5P9guvAyGzysMhzMyADHOQ  194626          31         0.338       0.93800   \n",
       "7937  1UUwFKaZ1Z8QPp5sstWltL  167189          62         0.434       0.99200   \n",
       "8648  3XscpxBMDGN1Jhm9ZL3Wsg  459213          31         0.131       0.98800   \n",
       "4058  2RsAajgo0g7bMCHxwH3Sk0  218920          79         0.500       0.00016   \n",
       "3781  6GqqGv8frU7kqzXkm2rewI  190718          68         0.664       0.00839   \n",
       "\n",
       "      energy  instrumentalness  liveness  loudness  speechiness    tempo  \\\n",
       "1618  0.2550          0.000493    0.1460   -10.930       0.0364  129.538   \n",
       "7937  0.0120          0.896000    0.1060   -35.826       0.0321  107.437   \n",
       "8648  0.0522          0.905000    0.0844   -19.620       0.0441   67.730   \n",
       "4058  0.8240          0.001610    0.0916    -5.846       0.0388  120.125   \n",
       "3781  0.8280          0.000000    0.2940    -6.053       0.0404  103.985   \n",
       "\n",
       "      time_signature  favorite  \n",
       "1618               4         0  \n",
       "7937               4         0  \n",
       "8648               4         0  \n",
       "4058               4         0  \n",
       "3781               4         0  "
      ]
     },
     "execution_count": 20,
     "metadata": {},
     "output_type": "execute_result"
    }
   ],
   "source": [
    "test_df.head()"
   ]
  },
  {
   "cell_type": "code",
   "execution_count": 21,
   "metadata": {},
   "outputs": [],
   "source": [
    "\n",
    "# Setting test datasets\n",
    "X_test = test_df.drop(columns=['favorite', 'track_id'])\n",
    "y_test = test_df['favorite']"
   ]
  },
  {
   "cell_type": "code",
   "execution_count": 22,
   "metadata": {},
   "outputs": [
    {
     "data": {
      "text/html": [
       "<div>\n",
       "<style scoped>\n",
       "    .dataframe tbody tr th:only-of-type {\n",
       "        vertical-align: middle;\n",
       "    }\n",
       "\n",
       "    .dataframe tbody tr th {\n",
       "        vertical-align: top;\n",
       "    }\n",
       "\n",
       "    .dataframe thead th {\n",
       "        text-align: right;\n",
       "    }\n",
       "</style>\n",
       "<table border=\"1\" class=\"dataframe\">\n",
       "  <thead>\n",
       "    <tr style=\"text-align: right;\">\n",
       "      <th></th>\n",
       "      <th>length</th>\n",
       "      <th>popularity</th>\n",
       "      <th>danceability</th>\n",
       "      <th>acousticness</th>\n",
       "      <th>energy</th>\n",
       "      <th>instrumentalness</th>\n",
       "      <th>liveness</th>\n",
       "      <th>loudness</th>\n",
       "      <th>speechiness</th>\n",
       "      <th>tempo</th>\n",
       "      <th>time_signature</th>\n",
       "    </tr>\n",
       "  </thead>\n",
       "  <tbody>\n",
       "    <tr>\n",
       "      <th>1618</th>\n",
       "      <td>194626</td>\n",
       "      <td>31</td>\n",
       "      <td>0.338</td>\n",
       "      <td>0.93800</td>\n",
       "      <td>0.2550</td>\n",
       "      <td>0.000493</td>\n",
       "      <td>0.1460</td>\n",
       "      <td>-10.930</td>\n",
       "      <td>0.0364</td>\n",
       "      <td>129.538</td>\n",
       "      <td>4</td>\n",
       "    </tr>\n",
       "    <tr>\n",
       "      <th>7937</th>\n",
       "      <td>167189</td>\n",
       "      <td>62</td>\n",
       "      <td>0.434</td>\n",
       "      <td>0.99200</td>\n",
       "      <td>0.0120</td>\n",
       "      <td>0.896000</td>\n",
       "      <td>0.1060</td>\n",
       "      <td>-35.826</td>\n",
       "      <td>0.0321</td>\n",
       "      <td>107.437</td>\n",
       "      <td>4</td>\n",
       "    </tr>\n",
       "    <tr>\n",
       "      <th>8648</th>\n",
       "      <td>459213</td>\n",
       "      <td>31</td>\n",
       "      <td>0.131</td>\n",
       "      <td>0.98800</td>\n",
       "      <td>0.0522</td>\n",
       "      <td>0.905000</td>\n",
       "      <td>0.0844</td>\n",
       "      <td>-19.620</td>\n",
       "      <td>0.0441</td>\n",
       "      <td>67.730</td>\n",
       "      <td>4</td>\n",
       "    </tr>\n",
       "    <tr>\n",
       "      <th>4058</th>\n",
       "      <td>218920</td>\n",
       "      <td>79</td>\n",
       "      <td>0.500</td>\n",
       "      <td>0.00016</td>\n",
       "      <td>0.8240</td>\n",
       "      <td>0.001610</td>\n",
       "      <td>0.0916</td>\n",
       "      <td>-5.846</td>\n",
       "      <td>0.0388</td>\n",
       "      <td>120.125</td>\n",
       "      <td>4</td>\n",
       "    </tr>\n",
       "    <tr>\n",
       "      <th>3781</th>\n",
       "      <td>190718</td>\n",
       "      <td>68</td>\n",
       "      <td>0.664</td>\n",
       "      <td>0.00839</td>\n",
       "      <td>0.8280</td>\n",
       "      <td>0.000000</td>\n",
       "      <td>0.2940</td>\n",
       "      <td>-6.053</td>\n",
       "      <td>0.0404</td>\n",
       "      <td>103.985</td>\n",
       "      <td>4</td>\n",
       "    </tr>\n",
       "  </tbody>\n",
       "</table>\n",
       "</div>"
      ],
      "text/plain": [
       "      length  popularity  danceability  acousticness  energy  \\\n",
       "1618  194626          31         0.338       0.93800  0.2550   \n",
       "7937  167189          62         0.434       0.99200  0.0120   \n",
       "8648  459213          31         0.131       0.98800  0.0522   \n",
       "4058  218920          79         0.500       0.00016  0.8240   \n",
       "3781  190718          68         0.664       0.00839  0.8280   \n",
       "\n",
       "      instrumentalness  liveness  loudness  speechiness    tempo  \\\n",
       "1618          0.000493    0.1460   -10.930       0.0364  129.538   \n",
       "7937          0.896000    0.1060   -35.826       0.0321  107.437   \n",
       "8648          0.905000    0.0844   -19.620       0.0441   67.730   \n",
       "4058          0.001610    0.0916    -5.846       0.0388  120.125   \n",
       "3781          0.000000    0.2940    -6.053       0.0404  103.985   \n",
       "\n",
       "      time_signature  \n",
       "1618               4  \n",
       "7937               4  \n",
       "8648               4  \n",
       "4058               4  \n",
       "3781               4  "
      ]
     },
     "execution_count": 22,
     "metadata": {},
     "output_type": "execute_result"
    }
   ],
   "source": [
    "X_test.head()"
   ]
  },
  {
   "cell_type": "code",
   "execution_count": 23,
   "metadata": {},
   "outputs": [
    {
     "data": {
      "text/plain": [
       "favorite\n",
       "0    1871\n",
       "1       9\n",
       "Name: count, dtype: int64"
      ]
     },
     "execution_count": 23,
     "metadata": {},
     "output_type": "execute_result"
    }
   ],
   "source": [
    "y_test.value_counts()"
   ]
  },
  {
   "cell_type": "code",
   "execution_count": 24,
   "metadata": {},
   "outputs": [
    {
     "name": "stdout",
     "output_type": "stream",
     "text": [
      "0.62358420713057\n"
     ]
    }
   ],
   "source": [
    "lr = LogisticRegression(solver='lbfgs', max_iter=400).fit(X_train, y_train)\n",
    "lr_scores = cross_val_score(lr, X_train, y_train, cv=10, scoring=\"f1\")\n",
    "print(np.mean(lr_scores))"
   ]
  },
  {
   "cell_type": "code",
   "execution_count": 25,
   "metadata": {},
   "outputs": [
    {
     "data": {
      "image/png": "[encoded data removed]",
      "text/plain": [
       "<Figure size 640x480 with 2 Axes>"
      ]
     },
     "metadata": {},
     "output_type": "display_data"
    }
   ],
   "source": [
    "# Assuming `lr` is your trained model and `X_train`, `y_train` are your training features and labels\n",
    "lr_preds = lr.predict(X_train)\n",
    "\n",
    "# Create a confusion matrix display\n",
    "disp = ConfusionMatrixDisplay.from_estimator(lr, X_train, y_train)\n",
    "\n",
    "\n",
    "\n"
   ]
  },
  {
   "cell_type": "code",
   "execution_count": 26,
   "metadata": {},
   "outputs": [
    {
     "data": {
      "text/plain": [
       "{'max_depth': 30}"
      ]
     },
     "execution_count": 26,
     "metadata": {},
     "output_type": "execute_result"
    }
   ],
   "source": [
    "parameters = {\n",
    "    'max_depth':[3, 4, 5, 6, 10, 15,20,30],\n",
    "}\n",
    "dtc = Pipeline([('CV',GridSearchCV(DecisionTreeClassifier(), parameters, cv = 5))])\n",
    "dtc.fit(X_train, y_train)\n",
    "dtc.named_steps['CV'].best_params_"
   ]
  },
  {
   "cell_type": "code",
   "execution_count": 27,
   "metadata": {},
   "outputs": [
    {
     "data": {
      "text/plain": [
       "0.9834310357064087"
      ]
     },
     "execution_count": 27,
     "metadata": {},
     "output_type": "execute_result"
    }
   ],
   "source": [
    "dt = DecisionTreeClassifier(max_depth=30).fit(X_train, y_train)\n",
    "dt_scores = cross_val_score(dt, X_train, y_train, cv=10, scoring=\"f1\")\n",
    "np.mean(dt_scores)"
   ]
  },
  {
   "cell_type": "code",
   "execution_count": 29,
   "metadata": {},
   "outputs": [
    {
     "data": {
      "image/png": "[encoded data removed]",
      "text/plain": [
       "<Figure size 640x480 with 2 Axes>"
      ]
     },
     "metadata": {},
     "output_type": "display_data"
    }
   ],
   "source": [
    "dt_preds = dt.predict(X_train)\n",
    "\n",
    "# Create a confusion matrix display\n",
    "disp = ConfusionMatrixDisplay.from_estimator(dt, X_train, y_train)\n"
   ]
  },
  {
   "cell_type": "code",
   "execution_count": 30,
   "metadata": {},
   "outputs": [
    {
     "data": {
      "text/plain": [
       "{'max_depth': 20, 'n_estimators': 30}"
      ]
     },
     "execution_count": 30,
     "metadata": {},
     "output_type": "execute_result"
    }
   ],
   "source": [
    "parameters = {\n",
    "    'max_depth':[3, 6,12,15,20],\n",
    "    'n_estimators':[10, 20,30]\n",
    "}\n",
    "clf = Pipeline([('CV',GridSearchCV(RandomForestClassifier(), parameters, cv = 5))])\n",
    "clf.fit(X_train, y_train)\n",
    "clf.named_steps['CV'].best_params_"
   ]
  },
  {
   "cell_type": "code",
   "execution_count": 31,
   "metadata": {},
   "outputs": [
    {
     "data": {
      "text/plain": [
       "0.9922290395993036"
      ]
     },
     "execution_count": 31,
     "metadata": {},
     "output_type": "execute_result"
    }
   ],
   "source": [
    "rf = Pipeline([('rf', RandomForestClassifier(n_estimators = 10, max_depth = 20).fit(X_train, y_train))])\n",
    "rf_scores = cross_val_score(rf, X_train, y_train, cv=10, scoring=\"f1\")\n",
    "np.mean(rf_scores)"
   ]
  },
  {
   "cell_type": "code",
   "execution_count": 32,
   "metadata": {},
   "outputs": [
    {
     "data": {
      "image/png": "[encoded data removed]",
      "text/plain": [
       "<Figure size 640x480 with 2 Axes>"
      ]
     },
     "metadata": {},
     "output_type": "display_data"
    }
   ],
   "source": [
    "rf_preds = rf.predict(X_train)\n",
    "\n",
    "# Create a confusion matrix display\n",
    "disp = ConfusionMatrixDisplay.from_estimator(rf, X_train, y_train)\n"
   ]
  },
  {
   "cell_type": "code",
   "execution_count": 33,
   "metadata": {},
   "outputs": [
    {
     "data": {
      "text/plain": [
       "favorite\n",
       "0    1871\n",
       "1       9\n",
       "Name: count, dtype: int64"
      ]
     },
     "execution_count": 33,
     "metadata": {},
     "output_type": "execute_result"
    }
   ],
   "source": [
    "y_test.value_counts()"
   ]
  },
  {
   "cell_type": "code",
   "execution_count": 34,
   "metadata": {},
   "outputs": [
    {
     "data": {
      "text/plain": [
       "0.9691489361702128"
      ]
     },
     "execution_count": 34,
     "metadata": {},
     "output_type": "execute_result"
    }
   ],
   "source": [
    "from sklearn.pipeline import make_pipeline\n",
    "from sklearn.preprocessing import StandardScaler\n",
    "\n",
    "pipe = make_pipeline(StandardScaler(), DecisionTreeClassifier(max_depth=30))\n",
    "pipe.fit(X_train, y_train)  # apply scaling on training data\n",
    "Pipeline(steps=[('standardscaler', StandardScaler()),\n",
    "                ('dt', DecisionTreeClassifier(max_depth=30))])\n",
    "\n",
    "pipe.score(X_test, y_test)"
   ]
  },
  {
   "cell_type": "code",
   "execution_count": 35,
   "metadata": {},
   "outputs": [
    {
     "data": {
      "image/png": "[encoded data removed]",
      "text/plain": [
       "<Figure size 640x480 with 2 Axes>"
      ]
     },
     "metadata": {},
     "output_type": "display_data"
    }
   ],
   "source": [
    "dt_preds = dt.predict(X_test)\n",
    "\n",
    "# Create a confusion matrix display\n",
    "disp = ConfusionMatrixDisplay.from_estimator(dt, X_test, y_test)\n"
   ]
  },
  {
   "cell_type": "code",
   "execution_count": 36,
   "metadata": {},
   "outputs": [],
   "source": [
    "df = pd.read_csv('/Users/acthach/Desktop/Summer proj/spotify_topsongs.csv')"
   ]
  },
  {
   "cell_type": "code",
   "execution_count": 37,
   "metadata": {},
   "outputs": [],
   "source": [
    "prob_preds = pipe.predict_proba(df.drop(['favorite','track_id'], axis=1))\n",
    "threshold = 0.30 # define threshold here\n",
    "preds = [1 if prob_preds[i][1]> threshold else 0 for i in range(len(prob_preds))]\n",
    "df['prediction'] = preds"
   ]
  },
  {
   "cell_type": "code",
   "execution_count": 38,
   "metadata": {},
   "outputs": [
    {
     "data": {
      "text/plain": [
       "prediction\n",
       "0    9237\n",
       "1     110\n",
       "Name: count, dtype: int64"
      ]
     },
     "execution_count": 38,
     "metadata": {},
     "output_type": "execute_result"
    }
   ],
   "source": [
    "df['prediction'].value_counts()"
   ]
  },
  {
   "cell_type": "code",
   "execution_count": 39,
   "metadata": {},
   "outputs": [],
   "source": [
    "import spotipy\n",
    "import spotipy.util as util\n",
    "from spotipy.oauth2 import SpotifyClientCredentials\n",
    "from spotipy import oauth2"
   ]
  },
  {
   "cell_type": "code",
   "execution_count": 40,
   "metadata": {},
   "outputs": [],
   "source": [
    "# Insert your Spotify username and the credentials that you obtained from spotify developer\n",
    "cid = 'XXXXXXX'\n",
    "secret = 'XXXXXXX'\n",
    "redirect_uri='http://localhost:8888/callback'\n",
    "username = 'XXXXXXX'"
   ]
  },
  {
   "cell_type": "code",
   "execution_count": 41,
   "metadata": {},
   "outputs": [],
   "source": [
    "scope = 'user-top-read playlist-modify-private playlist-modify-public'\n",
    "token = util.prompt_for_user_token(username, scope, client_id=cid, client_secret=secret, redirect_uri=redirect_uri)\n",
    "\n",
    "if token:\n",
    "    sp = spotipy.Spotify(auth=token)\n",
    "else:\n",
    "    print(\"Can't get token for\", username)"
   ]
  },
  {
   "cell_type": "code",
   "execution_count": 42,
   "metadata": {},
   "outputs": [],
   "source": [
    "def create_playlist(sp, username, playlist_name, playlist_description):\n",
    "    playlists = sp.user_playlist_create(username, playlist_name, description = playlist_description)"
   ]
  },
  {
   "cell_type": "code",
   "execution_count": 44,
   "metadata": {},
   "outputs": [],
   "source": [
    "create_playlist(sp, username, 'ML playlist', 'This playlist was created using python!')"
   ]
  },
  {
   "cell_type": "code",
   "execution_count": 45,
   "metadata": {},
   "outputs": [],
   "source": [
    "def fetch_playlists(sp, username):\n",
    "    \"\"\"\n",
    "    Returns the user's playlists.\n",
    "    \"\"\"\n",
    "        \n",
    "    id = []\n",
    "    name = []\n",
    "    num_tracks = []\n",
    "    \n",
    "    # Make the API request\n",
    "    playlists = sp.user_playlists(username)\n",
    "    for playlist in playlists['items']:\n",
    "        id.append(playlist['id'])\n",
    "        name.append(playlist['name'])\n",
    "        num_tracks.append(playlist['tracks']['total'])\n",
    "\n",
    "    # Create the final df   \n",
    "    df_playlists = pd.DataFrame({\"id\":id, \"name\": name, \"#tracks\": num_tracks})\n",
    "    return df_playlists"
   ]
  },
  {
   "cell_type": "code",
   "execution_count": 51,
   "metadata": {},
   "outputs": [
    {
     "data": {
      "text/html": [
       "<div>\n",
       "<style scoped>\n",
       "    .dataframe tbody tr th:only-of-type {\n",
       "        vertical-align: middle;\n",
       "    }\n",
       "\n",
       "    .dataframe tbody tr th {\n",
       "        vertical-align: top;\n",
       "    }\n",
       "\n",
       "    .dataframe thead th {\n",
       "        text-align: right;\n",
       "    }\n",
       "</style>\n",
       "<table border=\"1\" class=\"dataframe\">\n",
       "  <thead>\n",
       "    <tr style=\"text-align: right;\">\n",
       "      <th></th>\n",
       "      <th>id</th>\n",
       "      <th>name</th>\n",
       "      <th>#tracks</th>\n",
       "    </tr>\n",
       "  </thead>\n",
       "  <tbody>\n",
       "    <tr>\n",
       "      <th>0</th>\n",
       "      <td>4usmH7Xt6UkMHolfm0agzS</td>\n",
       "      <td>ML playlist</td>\n",
       "      <td>110</td>\n",
       "    </tr>\n",
       "    <tr>\n",
       "      <th>1</th>\n",
       "      <td>7gKgpqfvg6rCfMBqQ4g4Kc</td>\n",
       "      <td>NYSB</td>\n",
       "      <td>622</td>\n",
       "    </tr>\n",
       "    <tr>\n",
       "      <th>2</th>\n",
       "      <td>4OYaffRKqIakyCHDgi4ZfZ</td>\n",
       "      <td>Spring cleansing</td>\n",
       "      <td>11</td>\n",
       "    </tr>\n",
       "    <tr>\n",
       "      <th>3</th>\n",
       "      <td>5P3JMbnpcTQmxISGRGqWgp</td>\n",
       "      <td>Songs to remember me by</td>\n",
       "      <td>4</td>\n",
       "    </tr>\n",
       "    <tr>\n",
       "      <th>4</th>\n",
       "      <td>3gYdMz7T4pP6wzWi8klC7K</td>\n",
       "      <td>Body Dysmorphia</td>\n",
       "      <td>20</td>\n",
       "    </tr>\n",
       "  </tbody>\n",
       "</table>\n",
       "</div>"
      ],
      "text/plain": [
       "                       id                     name  #tracks\n",
       "0  4usmH7Xt6UkMHolfm0agzS              ML playlist      110\n",
       "1  7gKgpqfvg6rCfMBqQ4g4Kc                     NYSB      622\n",
       "2  4OYaffRKqIakyCHDgi4ZfZ         Spring cleansing       11\n",
       "3  5P3JMbnpcTQmxISGRGqWgp  Songs to remember me by        4\n",
       "4  3gYdMz7T4pP6wzWi8klC7K          Body Dysmorphia       20"
      ]
     },
     "execution_count": 51,
     "metadata": {},
     "output_type": "execute_result"
    }
   ],
   "source": [
    "fetch_playlists(sp,username).head()"
   ]
  },
  {
   "cell_type": "code",
   "execution_count": 47,
   "metadata": {},
   "outputs": [],
   "source": [
    "playlist_id = fetch_playlists(sp,username)['id'][0]"
   ]
  },
  {
   "cell_type": "code",
   "execution_count": 48,
   "metadata": {},
   "outputs": [],
   "source": [
    "# Function to add selected songs to playlist\n",
    "def enrich_playlist(sp, username, playlist_id, playlist_tracks):\n",
    "    index = 0\n",
    "    results = []\n",
    "    \n",
    "    while index < len(playlist_tracks):\n",
    "        results += sp.user_playlist_add_tracks(username, playlist_id, tracks = playlist_tracks[index:index + 50])\n",
    "        index += 50"
   ]
  },
  {
   "cell_type": "code",
   "execution_count": 49,
   "metadata": {},
   "outputs": [],
   "source": [
    "list_track = df.loc[df['prediction']  == 1]['track_id']\n",
    "enrich_playlist(sp, username, playlist_id, list_track)"
   ]
  }
 ],
 "metadata": {
  "kernelspec": {
   "display_name": "base",
   "language": "python",
   "name": "python3"
  },
  "language_info": {
   "codemirror_mode": {
    "name": "ipython",
    "version": 3
   },
   "file_extension": ".py",
   "mimetype": "text/x-python",
   "name": "python",
   "nbconvert_exporter": "python",
   "pygments_lexer": "ipython3",
   "version": "3.11.5"
  }
 },
 "nbformat": 4,
 "nbformat_minor": 2
}
